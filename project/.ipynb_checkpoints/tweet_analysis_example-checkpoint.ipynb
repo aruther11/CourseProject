{
 "cells": [
  {
   "cell_type": "code",
   "execution_count": 1,
   "id": "34901b1d",
   "metadata": {},
   "outputs": [],
   "source": [
    "from pull_tweets import historical_tweets\n",
    "from schedule_scraper import world_cup_schedule_scraper\n",
    "from schedule_transformer import transform_schedule\n",
    "from filter_tweets import tweet_filter\n",
    "from feature_utils import feature_utilities\n",
    "from extract_features import feature_extraction\n",
    "from sklearn.preprocessing import MinMaxScaler\n",
    "from sklearn.linear_model import LogisticRegression\n",
    "from sklearn.model_selection import train_test_split\n",
    "import pandas as pd"
   ]
  },
  {
   "cell_type": "code",
   "execution_count": 2,
   "id": "723e0e0c",
   "metadata": {},
   "outputs": [
    {
     "name": "stderr",
     "output_type": "stream",
     "text": [
      "Downloading tweets: 100%|████████████████████████████████████████| 10000/10000 [02:37<00:00, 63.57it/s]\n"
     ]
    }
   ],
   "source": [
    "tweets = historical_tweets.get_world_cup_tweets(10000)"
   ]
  },
  {
   "cell_type": "code",
   "execution_count": 3,
   "id": "8ccb8feb",
   "metadata": {},
   "outputs": [],
   "source": [
    "tweet_df = historical_tweets.build_df(tweets)"
   ]
  },
  {
   "cell_type": "code",
   "execution_count": 4,
   "id": "58f0acff",
   "metadata": {},
   "outputs": [
    {
     "data": {
      "text/html": [
       "<div>\n",
       "<style scoped>\n",
       "    .dataframe tbody tr th:only-of-type {\n",
       "        vertical-align: middle;\n",
       "    }\n",
       "\n",
       "    .dataframe tbody tr th {\n",
       "        vertical-align: top;\n",
       "    }\n",
       "\n",
       "    .dataframe thead th {\n",
       "        text-align: right;\n",
       "    }\n",
       "</style>\n",
       "<table border=\"1\" class=\"dataframe\">\n",
       "  <thead>\n",
       "    <tr style=\"text-align: right;\">\n",
       "      <th></th>\n",
       "      <th>tweet_id</th>\n",
       "      <th>username</th>\n",
       "      <th>text</th>\n",
       "      <th>tweet_link</th>\n",
       "      <th>created_at</th>\n",
       "      <th>mined_at</th>\n",
       "    </tr>\n",
       "  </thead>\n",
       "  <tbody>\n",
       "    <tr>\n",
       "      <th>0</th>\n",
       "      <td>1457860472716341255</td>\n",
       "      <td>FidaRealtor</td>\n",
       "      <td>#T20WorldCup most-watched match was #AfgvsNZ d...</td>\n",
       "      <td>https://twitter.com/FidaRealtor/status/1457860...</td>\n",
       "      <td>2021-11-08 23:59:57+00:00</td>\n",
       "      <td>2021-12-10 07:27:53.709437</td>\n",
       "    </tr>\n",
       "    <tr>\n",
       "      <th>1</th>\n",
       "      <td>1457859858053611522</td>\n",
       "      <td>YousafCricket</td>\n",
       "      <td>Pakistan has been in red-hot form in the ongoi...</td>\n",
       "      <td>https://twitter.com/YousafCricket/status/14578...</td>\n",
       "      <td>2021-11-08 23:57:30+00:00</td>\n",
       "      <td>2021-12-10 07:27:53.774439</td>\n",
       "    </tr>\n",
       "  </tbody>\n",
       "</table>\n",
       "</div>"
      ],
      "text/plain": [
       "              tweet_id       username  \\\n",
       "0  1457860472716341255    FidaRealtor   \n",
       "1  1457859858053611522  YousafCricket   \n",
       "\n",
       "                                                text  \\\n",
       "0  #T20WorldCup most-watched match was #AfgvsNZ d...   \n",
       "1  Pakistan has been in red-hot form in the ongoi...   \n",
       "\n",
       "                                          tweet_link  \\\n",
       "0  https://twitter.com/FidaRealtor/status/1457860...   \n",
       "1  https://twitter.com/YousafCricket/status/14578...   \n",
       "\n",
       "                 created_at                   mined_at  \n",
       "0 2021-11-08 23:59:57+00:00 2021-12-10 07:27:53.709437  \n",
       "1 2021-11-08 23:57:30+00:00 2021-12-10 07:27:53.774439  "
      ]
     },
     "execution_count": 4,
     "metadata": {},
     "output_type": "execute_result"
    }
   ],
   "source": [
    "tweet_df.head(2)"
   ]
  },
  {
   "cell_type": "markdown",
   "id": "907feae1",
   "metadata": {},
   "source": [
    "scrape world cup from schedule and transform set to give us parse who won the game and what each teams aliasias's are   "
   ]
  },
  {
   "cell_type": "code",
   "execution_count": 5,
   "id": "b82a6b05",
   "metadata": {},
   "outputs": [
    {
     "name": "stderr",
     "output_type": "stream",
     "text": [
      "\n",
      "\n",
      "====== WebDriver manager ======\n",
      "Current google-chrome version is 96.0.4664\n",
      "Get LATEST chromedriver version for 96.0.4664 google-chrome\n",
      "Driver [D:\\Users\\rutherap\\.wdm\\drivers\\chromedriver\\win32\\96.0.4664.45\\chromedriver.exe] found in cache\n"
     ]
    }
   ],
   "source": [
    "raw_schedule_tables = world_cup_schedule_scraper.get_raw_schedule_tables_from_website(url = 'https://www.whereig.com/cricket/t20-world-cup/schedule.html')"
   ]
  },
  {
   "cell_type": "code",
   "execution_count": 6,
   "id": "fca34462",
   "metadata": {},
   "outputs": [],
   "source": [
    "schedule_df = world_cup_schedule_scraper.clean_web_tables_to_df(raw_schedule_tables)"
   ]
  },
  {
   "cell_type": "code",
   "execution_count": 7,
   "id": "b7f642a1",
   "metadata": {},
   "outputs": [
    {
     "data": {
      "text/html": [
       "<div>\n",
       "<style scoped>\n",
       "    .dataframe tbody tr th:only-of-type {\n",
       "        vertical-align: middle;\n",
       "    }\n",
       "\n",
       "    .dataframe tbody tr th {\n",
       "        vertical-align: top;\n",
       "    }\n",
       "\n",
       "    .dataframe thead th {\n",
       "        text-align: right;\n",
       "    }\n",
       "</style>\n",
       "<table border=\"1\" class=\"dataframe\">\n",
       "  <thead>\n",
       "    <tr style=\"text-align: right;\">\n",
       "      <th></th>\n",
       "      <th>Match No</th>\n",
       "      <th>Date</th>\n",
       "      <th>Time (IST)</th>\n",
       "      <th>Teams</th>\n",
       "      <th>Round</th>\n",
       "      <th>Venue</th>\n",
       "      <th>Result</th>\n",
       "    </tr>\n",
       "  </thead>\n",
       "  <tbody>\n",
       "    <tr>\n",
       "      <th>0</th>\n",
       "      <td>1</td>\n",
       "      <td>17-Oct-21</td>\n",
       "      <td>3:30 PM</td>\n",
       "      <td>Oman vs Papua New Guinea</td>\n",
       "      <td>Group State</td>\n",
       "      <td>Muscat</td>\n",
       "      <td>OMN won by 10 wickets</td>\n",
       "    </tr>\n",
       "    <tr>\n",
       "      <th>1</th>\n",
       "      <td>2</td>\n",
       "      <td>17-Oct-21</td>\n",
       "      <td>7:30 PM</td>\n",
       "      <td>Bangladesh vs Scotland</td>\n",
       "      <td>Group State</td>\n",
       "      <td>Muscat</td>\n",
       "      <td>SCO won by 6 runs</td>\n",
       "    </tr>\n",
       "  </tbody>\n",
       "</table>\n",
       "</div>"
      ],
      "text/plain": [
       "  Match No       Date Time (IST)                     Teams        Round  \\\n",
       "0        1  17-Oct-21    3:30 PM  Oman vs Papua New Guinea  Group State   \n",
       "1        2  17-Oct-21    7:30 PM    Bangladesh vs Scotland  Group State   \n",
       "\n",
       "    Venue                 Result  \n",
       "0  Muscat  OMN won by 10 wickets  \n",
       "1  Muscat      SCO won by 6 runs  "
      ]
     },
     "execution_count": 7,
     "metadata": {},
     "output_type": "execute_result"
    }
   ],
   "source": [
    "schedule_df.head(2)"
   ]
  },
  {
   "cell_type": "code",
   "execution_count": 8,
   "id": "afbdcdd0",
   "metadata": {},
   "outputs": [],
   "source": [
    "transformed_schedule_df = transform_schedule.make_transformations(schedule_df)"
   ]
  },
  {
   "cell_type": "code",
   "execution_count": 9,
   "id": "bf9fe2c1",
   "metadata": {},
   "outputs": [
    {
     "data": {
      "text/html": [
       "<div>\n",
       "<style scoped>\n",
       "    .dataframe tbody tr th:only-of-type {\n",
       "        vertical-align: middle;\n",
       "    }\n",
       "\n",
       "    .dataframe tbody tr th {\n",
       "        vertical-align: top;\n",
       "    }\n",
       "\n",
       "    .dataframe thead th {\n",
       "        text-align: right;\n",
       "    }\n",
       "</style>\n",
       "<table border=\"1\" class=\"dataframe\">\n",
       "  <thead>\n",
       "    <tr style=\"text-align: right;\">\n",
       "      <th></th>\n",
       "      <th>Match No</th>\n",
       "      <th>Date</th>\n",
       "      <th>Time (IST)</th>\n",
       "      <th>Teams</th>\n",
       "      <th>Round</th>\n",
       "      <th>Venue</th>\n",
       "      <th>Result</th>\n",
       "      <th>clean_datetime_of_match_ist</th>\n",
       "      <th>clean_datetime_of_match_est</th>\n",
       "      <th>clean_datetime_of_match_utc</th>\n",
       "      <th>...</th>\n",
       "      <th>team_2</th>\n",
       "      <th>winner_of_match</th>\n",
       "      <th>result_by_wickets</th>\n",
       "      <th>result_by_runs</th>\n",
       "      <th>result_quantity</th>\n",
       "      <th>winner_of_match_expanded</th>\n",
       "      <th>team_1_alias</th>\n",
       "      <th>team_2_alias</th>\n",
       "      <th>hashtag1</th>\n",
       "      <th>hashtag2</th>\n",
       "    </tr>\n",
       "  </thead>\n",
       "  <tbody>\n",
       "    <tr>\n",
       "      <th>0</th>\n",
       "      <td>1</td>\n",
       "      <td>17-Oct-21</td>\n",
       "      <td>3:30 PM</td>\n",
       "      <td>oman vs papua new guinea</td>\n",
       "      <td>Group State</td>\n",
       "      <td>Muscat</td>\n",
       "      <td>OMN won by 10 wickets</td>\n",
       "      <td>2021-10-17 15:30:00+05:30</td>\n",
       "      <td>2021-10-17 06:00:00-04:00</td>\n",
       "      <td>2021-10-17 10:00:00</td>\n",
       "      <td>...</td>\n",
       "      <td>papua new guinea</td>\n",
       "      <td>OMN</td>\n",
       "      <td>True</td>\n",
       "      <td>False</td>\n",
       "      <td>10</td>\n",
       "      <td>oman</td>\n",
       "      <td>OMN</td>\n",
       "      <td>PNG</td>\n",
       "      <td>OMNvPNG</td>\n",
       "      <td>PNGvOMN</td>\n",
       "    </tr>\n",
       "    <tr>\n",
       "      <th>1</th>\n",
       "      <td>2</td>\n",
       "      <td>17-Oct-21</td>\n",
       "      <td>7:30 PM</td>\n",
       "      <td>bangladesh vs scotland</td>\n",
       "      <td>Group State</td>\n",
       "      <td>Muscat</td>\n",
       "      <td>SCO won by 6 runs</td>\n",
       "      <td>2021-10-17 19:30:00+05:30</td>\n",
       "      <td>2021-10-17 10:00:00-04:00</td>\n",
       "      <td>2021-10-17 14:00:00</td>\n",
       "      <td>...</td>\n",
       "      <td>scotland</td>\n",
       "      <td>SCO</td>\n",
       "      <td>False</td>\n",
       "      <td>True</td>\n",
       "      <td>6</td>\n",
       "      <td>scotland</td>\n",
       "      <td>BAN</td>\n",
       "      <td>SCO</td>\n",
       "      <td>BANvSCO</td>\n",
       "      <td>SCOvBAN</td>\n",
       "    </tr>\n",
       "  </tbody>\n",
       "</table>\n",
       "<p>2 rows × 21 columns</p>\n",
       "</div>"
      ],
      "text/plain": [
       "  Match No       Date Time (IST)                     Teams        Round  \\\n",
       "0        1  17-Oct-21    3:30 PM  oman vs papua new guinea  Group State   \n",
       "1        2  17-Oct-21    7:30 PM    bangladesh vs scotland  Group State   \n",
       "\n",
       "    Venue                 Result clean_datetime_of_match_ist  \\\n",
       "0  Muscat  OMN won by 10 wickets   2021-10-17 15:30:00+05:30   \n",
       "1  Muscat      SCO won by 6 runs   2021-10-17 19:30:00+05:30   \n",
       "\n",
       "  clean_datetime_of_match_est clean_datetime_of_match_utc  ...  \\\n",
       "0   2021-10-17 06:00:00-04:00         2021-10-17 10:00:00  ...   \n",
       "1   2021-10-17 10:00:00-04:00         2021-10-17 14:00:00  ...   \n",
       "\n",
       "             team_2 winner_of_match result_by_wickets  result_by_runs  \\\n",
       "0  papua new guinea             OMN              True           False   \n",
       "1          scotland             SCO             False            True   \n",
       "\n",
       "   result_quantity winner_of_match_expanded team_1_alias team_2_alias  \\\n",
       "0               10                     oman          OMN          PNG   \n",
       "1                6                 scotland          BAN          SCO   \n",
       "\n",
       "  hashtag1 hashtag2  \n",
       "0  OMNvPNG  PNGvOMN  \n",
       "1  BANvSCO  SCOvBAN  \n",
       "\n",
       "[2 rows x 21 columns]"
      ]
     },
     "execution_count": 9,
     "metadata": {},
     "output_type": "execute_result"
    }
   ],
   "source": [
    "transformed_schedule_df.head(2)"
   ]
  },
  {
   "cell_type": "markdown",
   "id": "019fb8f7",
   "metadata": {},
   "source": [
    "Compile list of hashtags in order to filter the tweets to those that only have those hashtags"
   ]
  },
  {
   "cell_type": "code",
   "execution_count": 10,
   "id": "bced2a66",
   "metadata": {},
   "outputs": [],
   "source": [
    "hashtag_list = list(transformed_schedule_df['hashtag1']) + list(transformed_schedule_df['hashtag2'])"
   ]
  },
  {
   "cell_type": "code",
   "execution_count": 11,
   "id": "03e2ab6a",
   "metadata": {},
   "outputs": [
    {
     "data": {
      "text/html": [
       "<div>\n",
       "<style scoped>\n",
       "    .dataframe tbody tr th:only-of-type {\n",
       "        vertical-align: middle;\n",
       "    }\n",
       "\n",
       "    .dataframe tbody tr th {\n",
       "        vertical-align: top;\n",
       "    }\n",
       "\n",
       "    .dataframe thead th {\n",
       "        text-align: right;\n",
       "    }\n",
       "</style>\n",
       "<table border=\"1\" class=\"dataframe\">\n",
       "  <thead>\n",
       "    <tr style=\"text-align: right;\">\n",
       "      <th></th>\n",
       "      <th>Match No</th>\n",
       "      <th>Date</th>\n",
       "      <th>Time (IST)</th>\n",
       "      <th>Teams</th>\n",
       "      <th>Round</th>\n",
       "      <th>Venue</th>\n",
       "      <th>Result</th>\n",
       "      <th>clean_datetime_of_match_ist</th>\n",
       "      <th>clean_datetime_of_match_est</th>\n",
       "      <th>clean_datetime_of_match_utc</th>\n",
       "      <th>...</th>\n",
       "      <th>team_2</th>\n",
       "      <th>winner_of_match</th>\n",
       "      <th>result_by_wickets</th>\n",
       "      <th>result_by_runs</th>\n",
       "      <th>result_quantity</th>\n",
       "      <th>winner_of_match_expanded</th>\n",
       "      <th>team_1_alias</th>\n",
       "      <th>team_2_alias</th>\n",
       "      <th>hashtag1</th>\n",
       "      <th>hashtag2</th>\n",
       "    </tr>\n",
       "  </thead>\n",
       "  <tbody>\n",
       "    <tr>\n",
       "      <th>0</th>\n",
       "      <td>1</td>\n",
       "      <td>17-Oct-21</td>\n",
       "      <td>3:30 PM</td>\n",
       "      <td>oman vs papua new guinea</td>\n",
       "      <td>Group State</td>\n",
       "      <td>Muscat</td>\n",
       "      <td>OMN won by 10 wickets</td>\n",
       "      <td>2021-10-17 15:30:00+05:30</td>\n",
       "      <td>2021-10-17 06:00:00-04:00</td>\n",
       "      <td>2021-10-17 10:00:00</td>\n",
       "      <td>...</td>\n",
       "      <td>papua new guinea</td>\n",
       "      <td>OMN</td>\n",
       "      <td>True</td>\n",
       "      <td>False</td>\n",
       "      <td>10</td>\n",
       "      <td>oman</td>\n",
       "      <td>OMN</td>\n",
       "      <td>PNG</td>\n",
       "      <td>OMNvPNG</td>\n",
       "      <td>PNGvOMN</td>\n",
       "    </tr>\n",
       "    <tr>\n",
       "      <th>1</th>\n",
       "      <td>2</td>\n",
       "      <td>17-Oct-21</td>\n",
       "      <td>7:30 PM</td>\n",
       "      <td>bangladesh vs scotland</td>\n",
       "      <td>Group State</td>\n",
       "      <td>Muscat</td>\n",
       "      <td>SCO won by 6 runs</td>\n",
       "      <td>2021-10-17 19:30:00+05:30</td>\n",
       "      <td>2021-10-17 10:00:00-04:00</td>\n",
       "      <td>2021-10-17 14:00:00</td>\n",
       "      <td>...</td>\n",
       "      <td>scotland</td>\n",
       "      <td>SCO</td>\n",
       "      <td>False</td>\n",
       "      <td>True</td>\n",
       "      <td>6</td>\n",
       "      <td>scotland</td>\n",
       "      <td>BAN</td>\n",
       "      <td>SCO</td>\n",
       "      <td>BANvSCO</td>\n",
       "      <td>SCOvBAN</td>\n",
       "    </tr>\n",
       "  </tbody>\n",
       "</table>\n",
       "<p>2 rows × 21 columns</p>\n",
       "</div>"
      ],
      "text/plain": [
       "  Match No       Date Time (IST)                     Teams        Round  \\\n",
       "0        1  17-Oct-21    3:30 PM  oman vs papua new guinea  Group State   \n",
       "1        2  17-Oct-21    7:30 PM    bangladesh vs scotland  Group State   \n",
       "\n",
       "    Venue                 Result clean_datetime_of_match_ist  \\\n",
       "0  Muscat  OMN won by 10 wickets   2021-10-17 15:30:00+05:30   \n",
       "1  Muscat      SCO won by 6 runs   2021-10-17 19:30:00+05:30   \n",
       "\n",
       "  clean_datetime_of_match_est clean_datetime_of_match_utc  ...  \\\n",
       "0   2021-10-17 06:00:00-04:00         2021-10-17 10:00:00  ...   \n",
       "1   2021-10-17 10:00:00-04:00         2021-10-17 14:00:00  ...   \n",
       "\n",
       "             team_2 winner_of_match result_by_wickets  result_by_runs  \\\n",
       "0  papua new guinea             OMN              True           False   \n",
       "1          scotland             SCO             False            True   \n",
       "\n",
       "   result_quantity winner_of_match_expanded team_1_alias team_2_alias  \\\n",
       "0               10                     oman          OMN          PNG   \n",
       "1                6                 scotland          BAN          SCO   \n",
       "\n",
       "  hashtag1 hashtag2  \n",
       "0  OMNvPNG  PNGvOMN  \n",
       "1  BANvSCO  SCOvBAN  \n",
       "\n",
       "[2 rows x 21 columns]"
      ]
     },
     "execution_count": 11,
     "metadata": {},
     "output_type": "execute_result"
    }
   ],
   "source": [
    "transformed_schedule_df.head(2)"
   ]
  },
  {
   "cell_type": "code",
   "execution_count": 12,
   "id": "26b26401",
   "metadata": {},
   "outputs": [
    {
     "name": "stderr",
     "output_type": "stream",
     "text": [
      "D:\\Users\\rutherap\\Desktop\\CourseProject\\project\\filter_tweets.py:13: SettingWithCopyWarning: \n",
      "A value is trying to be set on a copy of a slice from a DataFrame.\n",
      "Try using .loc[row_indexer,col_indexer] = value instead\n",
      "\n",
      "See the caveats in the documentation: https://pandas.pydata.org/pandas-docs/stable/user_guide/indexing.html#returning-a-view-versus-a-copy\n",
      "  segmented_df['hashtag_used'] = tag\n"
     ]
    }
   ],
   "source": [
    "hashtag_filtered_df = tweet_filter.filter_hashtags(tweet_df,transformed_schedule_df,hashtag_list)"
   ]
  },
  {
   "cell_type": "code",
   "execution_count": 13,
   "id": "ac560a25",
   "metadata": {},
   "outputs": [],
   "source": [
    "clean_prematch_tweets = tweet_filter.keep_only_prematch_tweets(hashtag_filtered_df)"
   ]
  },
  {
   "cell_type": "code",
   "execution_count": 14,
   "id": "05ba77d4",
   "metadata": {},
   "outputs": [],
   "source": [
    "model_set_pre_predictions = clean_prematch_tweets[['tweet_id','username','text','created_at','hashtag_used','Match No','clean_datetime_of_match_utc']]"
   ]
  },
  {
   "cell_type": "code",
   "execution_count": 15,
   "id": "a19c90bb",
   "metadata": {},
   "outputs": [],
   "source": [
    "model_set_pre_predictions.to_csv('model_set_pre_predictions.csv')"
   ]
  },
  {
   "cell_type": "markdown",
   "id": "ed8730b0",
   "metadata": {},
   "source": [
    "CSV of clean tweets was sent out to the rest of the group to manually select tweets and determine if there was a prediction or not in order to build a model set to be used for test/training."
   ]
  },
  {
   "cell_type": "code",
   "execution_count": 16,
   "id": "b5500bfa",
   "metadata": {},
   "outputs": [],
   "source": [
    "local_path = 'example_clean_tweets_before_match.csv'\n",
    "model_set_pre_predictions = pd.read_csv(local_path,encoding = \"utf-8\")"
   ]
  },
  {
   "cell_type": "code",
   "execution_count": 17,
   "id": "de360e21",
   "metadata": {},
   "outputs": [],
   "source": [
    "local_path = 'training_set.csv'\n",
    "model_set_post_predictions = pd.read_csv(local_path,encoding = \"utf-8\")"
   ]
  },
  {
   "cell_type": "code",
   "execution_count": 18,
   "id": "ba5ada95",
   "metadata": {},
   "outputs": [
    {
     "name": "stderr",
     "output_type": "stream",
     "text": [
      "D:\\Users\\rutherap\\Desktop\\CourseProject\\project\\feature_utils.py:23: SettingWithCopyWarning: \n",
      "A value is trying to be set on a copy of a slice from a DataFrame.\n",
      "Try using .loc[row_indexer,col_indexer] = value instead\n",
      "\n",
      "See the caveats in the documentation: https://pandas.pydata.org/pandas-docs/stable/user_guide/indexing.html#returning-a-view-versus-a-copy\n",
      "  clean_df['text'] =  clean_df['text_x']\n"
     ]
    }
   ],
   "source": [
    "model_set_df = feature_utilities.clean_training_set(model_set_pre_predictions,model_set_post_predictions)"
   ]
  },
  {
   "cell_type": "code",
   "execution_count": 19,
   "id": "82421a75",
   "metadata": {},
   "outputs": [],
   "source": [
    "X = feature_extraction.build_feature_set(model_set_df)\n",
    "y = model_set_df['y_is_prediction']"
   ]
  },
  {
   "cell_type": "code",
   "execution_count": 20,
   "id": "525a8771",
   "metadata": {},
   "outputs": [
    {
     "name": "stdout",
     "output_type": "stream",
     "text": [
      "Accuracy of Logistic regression classifier on training set: 0.75\n",
      "Accuracy of Logistic regression classifier on test set: 0.71\n"
     ]
    }
   ],
   "source": [
    "X_train, X_test, y_train, y_test = train_test_split(X, y, random_state=0)\n",
    "\n",
    "scaler = MinMaxScaler()\n",
    "X_train = scaler.fit_transform(X_train)\n",
    "X_test = scaler.transform(X_test)\n",
    "logreg = LogisticRegression()\n",
    "logreg.fit(X_train, y_train)\n",
    "\n",
    "print('Accuracy of Logistic regression classifier on training set: {:.2f}'\n",
    "     .format(logreg.score(X_train, y_train)))\n",
    "print('Accuracy of Logistic regression classifier on test set: {:.2f}'\n",
    "     .format(logreg.score(X_test, y_test)))"
   ]
  },
  {
   "cell_type": "code",
   "execution_count": 21,
   "id": "baeffb1f",
   "metadata": {},
   "outputs": [
    {
     "name": "stderr",
     "output_type": "stream",
     "text": [
      "D:\\Users\\rutherap\\.conda\\envs\\tweet_env\\lib\\site-packages\\sklearn\\base.py:439: UserWarning: X has feature names, but LogisticRegression was fitted without feature names\n",
      "  f\"X has feature names, but {self.__class__.__name__} was fitted without\"\n"
     ]
    }
   ],
   "source": [
    "prediction_X = feature_extraction.build_feature_set(model_set_pre_predictions)\n",
    "predictions = logreg.predict(prediction_X)"
   ]
  },
  {
   "cell_type": "code",
   "execution_count": 22,
   "id": "1860d51d",
   "metadata": {},
   "outputs": [],
   "source": [
    "model_set_pre_predictions['predictions'] = predictions\n",
    "prediction_tweets_full_df = model_set_pre_predictions[model_set_pre_predictions['predictions']  == 1]\n",
    "final_prediction_tweets_full_df = prediction_tweets_full_df[['tweet_id','predictions','text','created_at','clean_datetime_of_match_utc','Match No','team_1','team_2','winner_of_match']]"
   ]
  },
  {
   "cell_type": "code",
   "execution_count": 23,
   "id": "a731bf15",
   "metadata": {},
   "outputs": [],
   "source": [
    "#export csv to then manually annotate who the prediction was for\n",
    "final_prediction_tweets_full_df.to_csv('final_prediction_tweets_full.csv')"
   ]
  },
  {
   "cell_type": "code",
   "execution_count": 24,
   "id": "76462782",
   "metadata": {},
   "outputs": [],
   "source": [
    "local_path = 'final_prediction_tweets_full_annotated.csv'\n",
    "annotated_df = pd.read_csv(local_path,encoding = \"utf-8\")\n",
    "annotated_df['polarity'] = annotated_df['text'].apply(feature_utilities.polarity_calc)\n",
    "annotated_df['subjectivity'] = annotated_df['text'].apply(feature_utilities.subjectivity_calc)"
   ]
  },
  {
   "cell_type": "code",
   "execution_count": 25,
   "id": "9a795b62",
   "metadata": {},
   "outputs": [
    {
     "data": {
      "text/plain": [
       "Text(0, 0.5, 'Avg Polarity')"
      ]
     },
     "execution_count": 25,
     "metadata": {},
     "output_type": "execute_result"
    },
    {
     "data": {
      "image/png": "[encoded data removed]",
      "text/plain": [
       "<Figure size 432x288 with 1 Axes>"
      ]
     },
     "metadata": {
      "needs_background": "light"
     },
     "output_type": "display_data"
    }
   ],
   "source": [
    "plot1 = annotated_df.groupby(by = \"tweet_for\")['polarity'].mean().plot(kind = \"bar\",color=['blue',\"red\"],title = 'Avg Polarity By Predicted Outcome')\n",
    "plot1.set_xlabel(\"Predicted Resulted Outcome By Tweeter\")\n",
    "plot1.set_ylabel(\"Avg Polarity\")"
   ]
  },
  {
   "cell_type": "code",
   "execution_count": 26,
   "id": "0a25add6",
   "metadata": {},
   "outputs": [
    {
     "data": {
      "text/plain": [
       "Text(0, 0.5, 'Avg Subjectivity')"
      ]
     },
     "execution_count": 26,
     "metadata": {},
     "output_type": "execute_result"
    },
    {
     "data": {
      "image/png": "[encoded data removed]",
      "text/plain": [
       "<Figure size 432x288 with 1 Axes>"
      ]
     },
     "metadata": {
      "needs_background": "light"
     },
     "output_type": "display_data"
    }
   ],
   "source": [
    "plot2 = annotated_df.groupby(by = \"tweet_for\")['subjectivity'].mean().plot(kind = \"bar\",color=['blue',\"red\"],title = 'Avg Subjectivity By Predicted Outcome')\n",
    "plot2.set_xlabel(\"Predicted Resulted Outcome By Tweeter\")\n",
    "plot2.set_ylabel(\"Avg Subjectivity\")"
   ]
  },
  {
   "cell_type": "code",
   "execution_count": null,
   "id": "c8e0da5e",
   "metadata": {},
   "outputs": [],
   "source": []
  }
 ],
 "metadata": {
  "kernelspec": {
   "display_name": "tweet_env",
   "language": "python",
   "name": "tweet_env"
  },
  "language_info": {
   "codemirror_mode": {
    "name": "ipython",
    "version": 3
   },
   "file_extension": ".py",
   "mimetype": "text/x-python",
   "name": "python",
   "nbconvert_exporter": "python",
   "pygments_lexer": "ipython3",
   "version": "3.7.0"
  }
 },
 "nbformat": 4,
 "nbformat_minor": 5
}
